{
 "cells": [
  {
   "cell_type": "code",
   "execution_count": 1,
   "id": "6ec5e6d5",
   "metadata": {},
   "outputs": [],
   "source": [
    "import seaborn as sns\n",
    "import numpy as np\n",
    "import matplotlib.cm"
   ]
  },
  {
   "cell_type": "code",
   "execution_count": 2,
   "id": "d20e1b94",
   "metadata": {},
   "outputs": [],
   "source": [
    "import pandas as pd\n",
    "df = pd.read_csv(\"Desktop/archive_food/ifood_df.csv\")"
   ]
  },
  {
   "cell_type": "code",
   "execution_count": 3,
   "id": "4c7aaa20",
   "metadata": {},
   "outputs": [
    {
     "data": {
      "text/html": [
       "<div>\n",
       "<style scoped>\n",
       "    .dataframe tbody tr th:only-of-type {\n",
       "        vertical-align: middle;\n",
       "    }\n",
       "\n",
       "    .dataframe tbody tr th {\n",
       "        vertical-align: top;\n",
       "    }\n",
       "\n",
       "    .dataframe thead th {\n",
       "        text-align: right;\n",
       "    }\n",
       "</style>\n",
       "<table border=\"1\" class=\"dataframe\">\n",
       "  <thead>\n",
       "    <tr style=\"text-align: right;\">\n",
       "      <th></th>\n",
       "      <th>Income</th>\n",
       "      <th>Kidhome</th>\n",
       "      <th>Teenhome</th>\n",
       "      <th>Recency</th>\n",
       "      <th>MntWines</th>\n",
       "      <th>MntFruits</th>\n",
       "      <th>MntMeatProducts</th>\n",
       "      <th>MntFishProducts</th>\n",
       "      <th>MntSweetProducts</th>\n",
       "      <th>MntGoldProds</th>\n",
       "      <th>...</th>\n",
       "      <th>marital_Together</th>\n",
       "      <th>marital_Widow</th>\n",
       "      <th>education_2n Cycle</th>\n",
       "      <th>education_Basic</th>\n",
       "      <th>education_Graduation</th>\n",
       "      <th>education_Master</th>\n",
       "      <th>education_PhD</th>\n",
       "      <th>MntTotal</th>\n",
       "      <th>MntRegularProds</th>\n",
       "      <th>AcceptedCmpOverall</th>\n",
       "    </tr>\n",
       "  </thead>\n",
       "  <tbody>\n",
       "    <tr>\n",
       "      <th>0</th>\n",
       "      <td>58138.0</td>\n",
       "      <td>0</td>\n",
       "      <td>0</td>\n",
       "      <td>58</td>\n",
       "      <td>635</td>\n",
       "      <td>88</td>\n",
       "      <td>546</td>\n",
       "      <td>172</td>\n",
       "      <td>88</td>\n",
       "      <td>88</td>\n",
       "      <td>...</td>\n",
       "      <td>0</td>\n",
       "      <td>0</td>\n",
       "      <td>0</td>\n",
       "      <td>0</td>\n",
       "      <td>1</td>\n",
       "      <td>0</td>\n",
       "      <td>0</td>\n",
       "      <td>1529</td>\n",
       "      <td>1441</td>\n",
       "      <td>0</td>\n",
       "    </tr>\n",
       "    <tr>\n",
       "      <th>1</th>\n",
       "      <td>46344.0</td>\n",
       "      <td>1</td>\n",
       "      <td>1</td>\n",
       "      <td>38</td>\n",
       "      <td>11</td>\n",
       "      <td>1</td>\n",
       "      <td>6</td>\n",
       "      <td>2</td>\n",
       "      <td>1</td>\n",
       "      <td>6</td>\n",
       "      <td>...</td>\n",
       "      <td>0</td>\n",
       "      <td>0</td>\n",
       "      <td>0</td>\n",
       "      <td>0</td>\n",
       "      <td>1</td>\n",
       "      <td>0</td>\n",
       "      <td>0</td>\n",
       "      <td>21</td>\n",
       "      <td>15</td>\n",
       "      <td>0</td>\n",
       "    </tr>\n",
       "    <tr>\n",
       "      <th>2</th>\n",
       "      <td>71613.0</td>\n",
       "      <td>0</td>\n",
       "      <td>0</td>\n",
       "      <td>26</td>\n",
       "      <td>426</td>\n",
       "      <td>49</td>\n",
       "      <td>127</td>\n",
       "      <td>111</td>\n",
       "      <td>21</td>\n",
       "      <td>42</td>\n",
       "      <td>...</td>\n",
       "      <td>1</td>\n",
       "      <td>0</td>\n",
       "      <td>0</td>\n",
       "      <td>0</td>\n",
       "      <td>1</td>\n",
       "      <td>0</td>\n",
       "      <td>0</td>\n",
       "      <td>734</td>\n",
       "      <td>692</td>\n",
       "      <td>0</td>\n",
       "    </tr>\n",
       "    <tr>\n",
       "      <th>3</th>\n",
       "      <td>26646.0</td>\n",
       "      <td>1</td>\n",
       "      <td>0</td>\n",
       "      <td>26</td>\n",
       "      <td>11</td>\n",
       "      <td>4</td>\n",
       "      <td>20</td>\n",
       "      <td>10</td>\n",
       "      <td>3</td>\n",
       "      <td>5</td>\n",
       "      <td>...</td>\n",
       "      <td>1</td>\n",
       "      <td>0</td>\n",
       "      <td>0</td>\n",
       "      <td>0</td>\n",
       "      <td>1</td>\n",
       "      <td>0</td>\n",
       "      <td>0</td>\n",
       "      <td>48</td>\n",
       "      <td>43</td>\n",
       "      <td>0</td>\n",
       "    </tr>\n",
       "    <tr>\n",
       "      <th>4</th>\n",
       "      <td>58293.0</td>\n",
       "      <td>1</td>\n",
       "      <td>0</td>\n",
       "      <td>94</td>\n",
       "      <td>173</td>\n",
       "      <td>43</td>\n",
       "      <td>118</td>\n",
       "      <td>46</td>\n",
       "      <td>27</td>\n",
       "      <td>15</td>\n",
       "      <td>...</td>\n",
       "      <td>0</td>\n",
       "      <td>0</td>\n",
       "      <td>0</td>\n",
       "      <td>0</td>\n",
       "      <td>0</td>\n",
       "      <td>0</td>\n",
       "      <td>1</td>\n",
       "      <td>407</td>\n",
       "      <td>392</td>\n",
       "      <td>0</td>\n",
       "    </tr>\n",
       "  </tbody>\n",
       "</table>\n",
       "<p>5 rows × 39 columns</p>\n",
       "</div>"
      ],
      "text/plain": [
       "    Income  Kidhome  Teenhome  Recency  MntWines  MntFruits  MntMeatProducts   \n",
       "0  58138.0        0         0       58       635         88              546  \\\n",
       "1  46344.0        1         1       38        11          1                6   \n",
       "2  71613.0        0         0       26       426         49              127   \n",
       "3  26646.0        1         0       26        11          4               20   \n",
       "4  58293.0        1         0       94       173         43              118   \n",
       "\n",
       "   MntFishProducts  MntSweetProducts  MntGoldProds  ...  marital_Together   \n",
       "0              172                88            88  ...                 0  \\\n",
       "1                2                 1             6  ...                 0   \n",
       "2              111                21            42  ...                 1   \n",
       "3               10                 3             5  ...                 1   \n",
       "4               46                27            15  ...                 0   \n",
       "\n",
       "   marital_Widow  education_2n Cycle  education_Basic  education_Graduation   \n",
       "0              0                   0                0                     1  \\\n",
       "1              0                   0                0                     1   \n",
       "2              0                   0                0                     1   \n",
       "3              0                   0                0                     1   \n",
       "4              0                   0                0                     0   \n",
       "\n",
       "   education_Master  education_PhD  MntTotal  MntRegularProds   \n",
       "0                 0              0      1529             1441  \\\n",
       "1                 0              0        21               15   \n",
       "2                 0              0       734              692   \n",
       "3                 0              0        48               43   \n",
       "4                 0              1       407              392   \n",
       "\n",
       "   AcceptedCmpOverall  \n",
       "0                   0  \n",
       "1                   0  \n",
       "2                   0  \n",
       "3                   0  \n",
       "4                   0  \n",
       "\n",
       "[5 rows x 39 columns]"
      ]
     },
     "execution_count": 3,
     "metadata": {},
     "output_type": "execute_result"
    }
   ],
   "source": [
    "df.head()"
   ]
  },
  {
   "cell_type": "code",
   "execution_count": 4,
   "id": "069d1b5c",
   "metadata": {},
   "outputs": [
    {
     "data": {
      "text/plain": [
       "Index(['Income', 'Kidhome', 'Teenhome', 'Recency', 'MntWines', 'MntFruits',\n",
       "       'MntMeatProducts', 'MntFishProducts', 'MntSweetProducts',\n",
       "       'MntGoldProds', 'NumDealsPurchases', 'NumWebPurchases',\n",
       "       'NumCatalogPurchases', 'NumStorePurchases', 'NumWebVisitsMonth',\n",
       "       'AcceptedCmp3', 'AcceptedCmp4', 'AcceptedCmp5', 'AcceptedCmp1',\n",
       "       'AcceptedCmp2', 'Complain', 'Z_CostContact', 'Z_Revenue', 'Response',\n",
       "       'Age', 'Customer_Days', 'marital_Divorced', 'marital_Married',\n",
       "       'marital_Single', 'marital_Together', 'marital_Widow',\n",
       "       'education_2n Cycle', 'education_Basic', 'education_Graduation',\n",
       "       'education_Master', 'education_PhD', 'MntTotal', 'MntRegularProds',\n",
       "       'AcceptedCmpOverall'],\n",
       "      dtype='object')"
      ]
     },
     "execution_count": 4,
     "metadata": {},
     "output_type": "execute_result"
    }
   ],
   "source": [
    "df.columns"
   ]
  },
  {
   "cell_type": "code",
   "execution_count": 6,
   "id": "b1d4e001",
   "metadata": {},
   "outputs": [],
   "source": [
    "def func(value1,value2):\n",
    "    return df[df[\"Income\"].between(value1,value2+1)]"
   ]
  },
  {
   "cell_type": "code",
   "execution_count": 7,
   "id": "4b1cbe00",
   "metadata": {},
   "outputs": [],
   "source": [
    "df_1 = func(0,22400)\n",
    "df_2 = func(22401,44800)\n",
    "df_3 = func(44801,89600)\n",
    "df_4 = func(89601,179200)"
   ]
  },
  {
   "cell_type": "code",
   "execution_count": 8,
   "id": "57f446db",
   "metadata": {},
   "outputs": [
    {
     "data": {
      "text/html": [
       "<div>\n",
       "<style scoped>\n",
       "    .dataframe tbody tr th:only-of-type {\n",
       "        vertical-align: middle;\n",
       "    }\n",
       "\n",
       "    .dataframe tbody tr th {\n",
       "        vertical-align: top;\n",
       "    }\n",
       "\n",
       "    .dataframe thead th {\n",
       "        text-align: right;\n",
       "    }\n",
       "</style>\n",
       "<table border=\"1\" class=\"dataframe\">\n",
       "  <thead>\n",
       "    <tr style=\"text-align: right;\">\n",
       "      <th></th>\n",
       "      <th>Income</th>\n",
       "      <th>Kidhome</th>\n",
       "      <th>Teenhome</th>\n",
       "      <th>Recency</th>\n",
       "      <th>MntWines</th>\n",
       "      <th>MntFruits</th>\n",
       "      <th>MntMeatProducts</th>\n",
       "      <th>MntFishProducts</th>\n",
       "      <th>MntSweetProducts</th>\n",
       "      <th>MntGoldProds</th>\n",
       "      <th>...</th>\n",
       "      <th>marital_Together</th>\n",
       "      <th>marital_Widow</th>\n",
       "      <th>education_2n Cycle</th>\n",
       "      <th>education_Basic</th>\n",
       "      <th>education_Graduation</th>\n",
       "      <th>education_Master</th>\n",
       "      <th>education_PhD</th>\n",
       "      <th>MntTotal</th>\n",
       "      <th>MntRegularProds</th>\n",
       "      <th>AcceptedCmpOverall</th>\n",
       "    </tr>\n",
       "  </thead>\n",
       "  <tbody>\n",
       "    <tr>\n",
       "      <th>9</th>\n",
       "      <td>5648.0</td>\n",
       "      <td>1</td>\n",
       "      <td>1</td>\n",
       "      <td>68</td>\n",
       "      <td>28</td>\n",
       "      <td>0</td>\n",
       "      <td>6</td>\n",
       "      <td>1</td>\n",
       "      <td>1</td>\n",
       "      <td>13</td>\n",
       "      <td>...</td>\n",
       "      <td>1</td>\n",
       "      <td>0</td>\n",
       "      <td>0</td>\n",
       "      <td>0</td>\n",
       "      <td>0</td>\n",
       "      <td>0</td>\n",
       "      <td>1</td>\n",
       "      <td>36</td>\n",
       "      <td>23</td>\n",
       "      <td>1</td>\n",
       "    </tr>\n",
       "    <tr>\n",
       "      <th>10</th>\n",
       "      <td>7500.0</td>\n",
       "      <td>0</td>\n",
       "      <td>0</td>\n",
       "      <td>59</td>\n",
       "      <td>6</td>\n",
       "      <td>16</td>\n",
       "      <td>11</td>\n",
       "      <td>11</td>\n",
       "      <td>1</td>\n",
       "      <td>16</td>\n",
       "      <td>...</td>\n",
       "      <td>0</td>\n",
       "      <td>0</td>\n",
       "      <td>0</td>\n",
       "      <td>1</td>\n",
       "      <td>0</td>\n",
       "      <td>0</td>\n",
       "      <td>0</td>\n",
       "      <td>45</td>\n",
       "      <td>29</td>\n",
       "      <td>0</td>\n",
       "    </tr>\n",
       "    <tr>\n",
       "      <th>13</th>\n",
       "      <td>17323.0</td>\n",
       "      <td>0</td>\n",
       "      <td>0</td>\n",
       "      <td>38</td>\n",
       "      <td>3</td>\n",
       "      <td>14</td>\n",
       "      <td>17</td>\n",
       "      <td>6</td>\n",
       "      <td>1</td>\n",
       "      <td>5</td>\n",
       "      <td>...</td>\n",
       "      <td>0</td>\n",
       "      <td>0</td>\n",
       "      <td>0</td>\n",
       "      <td>0</td>\n",
       "      <td>1</td>\n",
       "      <td>0</td>\n",
       "      <td>0</td>\n",
       "      <td>41</td>\n",
       "      <td>36</td>\n",
       "      <td>0</td>\n",
       "    </tr>\n",
       "    <tr>\n",
       "      <th>20</th>\n",
       "      <td>2447.0</td>\n",
       "      <td>1</td>\n",
       "      <td>0</td>\n",
       "      <td>42</td>\n",
       "      <td>1</td>\n",
       "      <td>1</td>\n",
       "      <td>1725</td>\n",
       "      <td>1</td>\n",
       "      <td>1</td>\n",
       "      <td>1</td>\n",
       "      <td>...</td>\n",
       "      <td>0</td>\n",
       "      <td>0</td>\n",
       "      <td>0</td>\n",
       "      <td>0</td>\n",
       "      <td>1</td>\n",
       "      <td>0</td>\n",
       "      <td>0</td>\n",
       "      <td>1729</td>\n",
       "      <td>1728</td>\n",
       "      <td>0</td>\n",
       "    </tr>\n",
       "    <tr>\n",
       "      <th>24</th>\n",
       "      <td>18589.0</td>\n",
       "      <td>0</td>\n",
       "      <td>0</td>\n",
       "      <td>89</td>\n",
       "      <td>6</td>\n",
       "      <td>4</td>\n",
       "      <td>25</td>\n",
       "      <td>15</td>\n",
       "      <td>12</td>\n",
       "      <td>13</td>\n",
       "      <td>...</td>\n",
       "      <td>0</td>\n",
       "      <td>0</td>\n",
       "      <td>0</td>\n",
       "      <td>0</td>\n",
       "      <td>1</td>\n",
       "      <td>0</td>\n",
       "      <td>0</td>\n",
       "      <td>62</td>\n",
       "      <td>49</td>\n",
       "      <td>0</td>\n",
       "    </tr>\n",
       "  </tbody>\n",
       "</table>\n",
       "<p>5 rows × 39 columns</p>\n",
       "</div>"
      ],
      "text/plain": [
       "     Income  Kidhome  Teenhome  Recency  MntWines  MntFruits  MntMeatProducts   \n",
       "9    5648.0        1         1       68        28          0                6  \\\n",
       "10   7500.0        0         0       59         6         16               11   \n",
       "13  17323.0        0         0       38         3         14               17   \n",
       "20   2447.0        1         0       42         1          1             1725   \n",
       "24  18589.0        0         0       89         6          4               25   \n",
       "\n",
       "    MntFishProducts  MntSweetProducts  MntGoldProds  ...  marital_Together   \n",
       "9                 1                 1            13  ...                 1  \\\n",
       "10               11                 1            16  ...                 0   \n",
       "13                6                 1             5  ...                 0   \n",
       "20                1                 1             1  ...                 0   \n",
       "24               15                12            13  ...                 0   \n",
       "\n",
       "    marital_Widow  education_2n Cycle  education_Basic  education_Graduation   \n",
       "9               0                   0                0                     0  \\\n",
       "10              0                   0                1                     0   \n",
       "13              0                   0                0                     1   \n",
       "20              0                   0                0                     1   \n",
       "24              0                   0                0                     1   \n",
       "\n",
       "    education_Master  education_PhD  MntTotal  MntRegularProds   \n",
       "9                  0              1        36               23  \\\n",
       "10                 0              0        45               29   \n",
       "13                 0              0        41               36   \n",
       "20                 0              0      1729             1728   \n",
       "24                 0              0        62               49   \n",
       "\n",
       "    AcceptedCmpOverall  \n",
       "9                    1  \n",
       "10                   0  \n",
       "13                   0  \n",
       "20                   0  \n",
       "24                   0  \n",
       "\n",
       "[5 rows x 39 columns]"
      ]
     },
     "execution_count": 8,
     "metadata": {},
     "output_type": "execute_result"
    }
   ],
   "source": [
    "df_1.head()"
   ]
  },
  {
   "cell_type": "code",
   "execution_count": 9,
   "id": "cdba2161",
   "metadata": {},
   "outputs": [
    {
     "data": {
      "text/html": [
       "<div>\n",
       "<style scoped>\n",
       "    .dataframe tbody tr th:only-of-type {\n",
       "        vertical-align: middle;\n",
       "    }\n",
       "\n",
       "    .dataframe tbody tr th {\n",
       "        vertical-align: top;\n",
       "    }\n",
       "\n",
       "    .dataframe thead th {\n",
       "        text-align: right;\n",
       "    }\n",
       "</style>\n",
       "<table border=\"1\" class=\"dataframe\">\n",
       "  <thead>\n",
       "    <tr style=\"text-align: right;\">\n",
       "      <th></th>\n",
       "      <th>Income</th>\n",
       "      <th>Kidhome</th>\n",
       "      <th>Teenhome</th>\n",
       "      <th>Recency</th>\n",
       "      <th>MntWines</th>\n",
       "      <th>MntFruits</th>\n",
       "      <th>MntMeatProducts</th>\n",
       "      <th>MntFishProducts</th>\n",
       "      <th>MntSweetProducts</th>\n",
       "      <th>MntGoldProds</th>\n",
       "      <th>...</th>\n",
       "      <th>marital_Together</th>\n",
       "      <th>marital_Widow</th>\n",
       "      <th>education_2n Cycle</th>\n",
       "      <th>education_Basic</th>\n",
       "      <th>education_Graduation</th>\n",
       "      <th>education_Master</th>\n",
       "      <th>education_PhD</th>\n",
       "      <th>MntTotal</th>\n",
       "      <th>MntRegularProds</th>\n",
       "      <th>AcceptedCmpOverall</th>\n",
       "    </tr>\n",
       "  </thead>\n",
       "  <tbody>\n",
       "    <tr>\n",
       "      <th>3</th>\n",
       "      <td>26646.0</td>\n",
       "      <td>1</td>\n",
       "      <td>0</td>\n",
       "      <td>26</td>\n",
       "      <td>11</td>\n",
       "      <td>4</td>\n",
       "      <td>20</td>\n",
       "      <td>10</td>\n",
       "      <td>3</td>\n",
       "      <td>5</td>\n",
       "      <td>...</td>\n",
       "      <td>1</td>\n",
       "      <td>0</td>\n",
       "      <td>0</td>\n",
       "      <td>0</td>\n",
       "      <td>1</td>\n",
       "      <td>0</td>\n",
       "      <td>0</td>\n",
       "      <td>48</td>\n",
       "      <td>43</td>\n",
       "      <td>0</td>\n",
       "    </tr>\n",
       "    <tr>\n",
       "      <th>7</th>\n",
       "      <td>33454.0</td>\n",
       "      <td>1</td>\n",
       "      <td>0</td>\n",
       "      <td>32</td>\n",
       "      <td>76</td>\n",
       "      <td>10</td>\n",
       "      <td>56</td>\n",
       "      <td>3</td>\n",
       "      <td>1</td>\n",
       "      <td>23</td>\n",
       "      <td>...</td>\n",
       "      <td>0</td>\n",
       "      <td>0</td>\n",
       "      <td>0</td>\n",
       "      <td>0</td>\n",
       "      <td>0</td>\n",
       "      <td>0</td>\n",
       "      <td>1</td>\n",
       "      <td>146</td>\n",
       "      <td>123</td>\n",
       "      <td>0</td>\n",
       "    </tr>\n",
       "    <tr>\n",
       "      <th>8</th>\n",
       "      <td>30351.0</td>\n",
       "      <td>1</td>\n",
       "      <td>0</td>\n",
       "      <td>19</td>\n",
       "      <td>14</td>\n",
       "      <td>0</td>\n",
       "      <td>24</td>\n",
       "      <td>3</td>\n",
       "      <td>3</td>\n",
       "      <td>2</td>\n",
       "      <td>...</td>\n",
       "      <td>1</td>\n",
       "      <td>0</td>\n",
       "      <td>0</td>\n",
       "      <td>0</td>\n",
       "      <td>0</td>\n",
       "      <td>0</td>\n",
       "      <td>1</td>\n",
       "      <td>44</td>\n",
       "      <td>42</td>\n",
       "      <td>0</td>\n",
       "    </tr>\n",
       "    <tr>\n",
       "      <th>15</th>\n",
       "      <td>41850.0</td>\n",
       "      <td>1</td>\n",
       "      <td>1</td>\n",
       "      <td>51</td>\n",
       "      <td>53</td>\n",
       "      <td>5</td>\n",
       "      <td>19</td>\n",
       "      <td>2</td>\n",
       "      <td>13</td>\n",
       "      <td>4</td>\n",
       "      <td>...</td>\n",
       "      <td>0</td>\n",
       "      <td>0</td>\n",
       "      <td>0</td>\n",
       "      <td>0</td>\n",
       "      <td>1</td>\n",
       "      <td>0</td>\n",
       "      <td>0</td>\n",
       "      <td>92</td>\n",
       "      <td>88</td>\n",
       "      <td>0</td>\n",
       "    </tr>\n",
       "    <tr>\n",
       "      <th>16</th>\n",
       "      <td>37760.0</td>\n",
       "      <td>0</td>\n",
       "      <td>0</td>\n",
       "      <td>20</td>\n",
       "      <td>84</td>\n",
       "      <td>5</td>\n",
       "      <td>38</td>\n",
       "      <td>150</td>\n",
       "      <td>12</td>\n",
       "      <td>28</td>\n",
       "      <td>...</td>\n",
       "      <td>1</td>\n",
       "      <td>0</td>\n",
       "      <td>0</td>\n",
       "      <td>0</td>\n",
       "      <td>1</td>\n",
       "      <td>0</td>\n",
       "      <td>0</td>\n",
       "      <td>289</td>\n",
       "      <td>261</td>\n",
       "      <td>0</td>\n",
       "    </tr>\n",
       "  </tbody>\n",
       "</table>\n",
       "<p>5 rows × 39 columns</p>\n",
       "</div>"
      ],
      "text/plain": [
       "     Income  Kidhome  Teenhome  Recency  MntWines  MntFruits  MntMeatProducts   \n",
       "3   26646.0        1         0       26        11          4               20  \\\n",
       "7   33454.0        1         0       32        76         10               56   \n",
       "8   30351.0        1         0       19        14          0               24   \n",
       "15  41850.0        1         1       51        53          5               19   \n",
       "16  37760.0        0         0       20        84          5               38   \n",
       "\n",
       "    MntFishProducts  MntSweetProducts  MntGoldProds  ...  marital_Together   \n",
       "3                10                 3             5  ...                 1  \\\n",
       "7                 3                 1            23  ...                 0   \n",
       "8                 3                 3             2  ...                 1   \n",
       "15                2                13             4  ...                 0   \n",
       "16              150                12            28  ...                 1   \n",
       "\n",
       "    marital_Widow  education_2n Cycle  education_Basic  education_Graduation   \n",
       "3               0                   0                0                     1  \\\n",
       "7               0                   0                0                     0   \n",
       "8               0                   0                0                     0   \n",
       "15              0                   0                0                     1   \n",
       "16              0                   0                0                     1   \n",
       "\n",
       "    education_Master  education_PhD  MntTotal  MntRegularProds   \n",
       "3                  0              0        48               43  \\\n",
       "7                  0              1       146              123   \n",
       "8                  0              1        44               42   \n",
       "15                 0              0        92               88   \n",
       "16                 0              0       289              261   \n",
       "\n",
       "    AcceptedCmpOverall  \n",
       "3                    0  \n",
       "7                    0  \n",
       "8                    0  \n",
       "15                   0  \n",
       "16                   0  \n",
       "\n",
       "[5 rows x 39 columns]"
      ]
     },
     "execution_count": 9,
     "metadata": {},
     "output_type": "execute_result"
    }
   ],
   "source": [
    "df_2.head()"
   ]
  },
  {
   "cell_type": "code",
   "execution_count": 10,
   "id": "b3c04ccf",
   "metadata": {},
   "outputs": [
    {
     "data": {
      "text/html": [
       "<div>\n",
       "<style scoped>\n",
       "    .dataframe tbody tr th:only-of-type {\n",
       "        vertical-align: middle;\n",
       "    }\n",
       "\n",
       "    .dataframe tbody tr th {\n",
       "        vertical-align: top;\n",
       "    }\n",
       "\n",
       "    .dataframe thead th {\n",
       "        text-align: right;\n",
       "    }\n",
       "</style>\n",
       "<table border=\"1\" class=\"dataframe\">\n",
       "  <thead>\n",
       "    <tr style=\"text-align: right;\">\n",
       "      <th></th>\n",
       "      <th>Income</th>\n",
       "      <th>Kidhome</th>\n",
       "      <th>Teenhome</th>\n",
       "      <th>Recency</th>\n",
       "      <th>MntWines</th>\n",
       "      <th>MntFruits</th>\n",
       "      <th>MntMeatProducts</th>\n",
       "      <th>MntFishProducts</th>\n",
       "      <th>MntSweetProducts</th>\n",
       "      <th>MntGoldProds</th>\n",
       "      <th>...</th>\n",
       "      <th>marital_Together</th>\n",
       "      <th>marital_Widow</th>\n",
       "      <th>education_2n Cycle</th>\n",
       "      <th>education_Basic</th>\n",
       "      <th>education_Graduation</th>\n",
       "      <th>education_Master</th>\n",
       "      <th>education_PhD</th>\n",
       "      <th>MntTotal</th>\n",
       "      <th>MntRegularProds</th>\n",
       "      <th>AcceptedCmpOverall</th>\n",
       "    </tr>\n",
       "  </thead>\n",
       "  <tbody>\n",
       "    <tr>\n",
       "      <th>0</th>\n",
       "      <td>58138.0</td>\n",
       "      <td>0</td>\n",
       "      <td>0</td>\n",
       "      <td>58</td>\n",
       "      <td>635</td>\n",
       "      <td>88</td>\n",
       "      <td>546</td>\n",
       "      <td>172</td>\n",
       "      <td>88</td>\n",
       "      <td>88</td>\n",
       "      <td>...</td>\n",
       "      <td>0</td>\n",
       "      <td>0</td>\n",
       "      <td>0</td>\n",
       "      <td>0</td>\n",
       "      <td>1</td>\n",
       "      <td>0</td>\n",
       "      <td>0</td>\n",
       "      <td>1529</td>\n",
       "      <td>1441</td>\n",
       "      <td>0</td>\n",
       "    </tr>\n",
       "    <tr>\n",
       "      <th>1</th>\n",
       "      <td>46344.0</td>\n",
       "      <td>1</td>\n",
       "      <td>1</td>\n",
       "      <td>38</td>\n",
       "      <td>11</td>\n",
       "      <td>1</td>\n",
       "      <td>6</td>\n",
       "      <td>2</td>\n",
       "      <td>1</td>\n",
       "      <td>6</td>\n",
       "      <td>...</td>\n",
       "      <td>0</td>\n",
       "      <td>0</td>\n",
       "      <td>0</td>\n",
       "      <td>0</td>\n",
       "      <td>1</td>\n",
       "      <td>0</td>\n",
       "      <td>0</td>\n",
       "      <td>21</td>\n",
       "      <td>15</td>\n",
       "      <td>0</td>\n",
       "    </tr>\n",
       "    <tr>\n",
       "      <th>2</th>\n",
       "      <td>71613.0</td>\n",
       "      <td>0</td>\n",
       "      <td>0</td>\n",
       "      <td>26</td>\n",
       "      <td>426</td>\n",
       "      <td>49</td>\n",
       "      <td>127</td>\n",
       "      <td>111</td>\n",
       "      <td>21</td>\n",
       "      <td>42</td>\n",
       "      <td>...</td>\n",
       "      <td>1</td>\n",
       "      <td>0</td>\n",
       "      <td>0</td>\n",
       "      <td>0</td>\n",
       "      <td>1</td>\n",
       "      <td>0</td>\n",
       "      <td>0</td>\n",
       "      <td>734</td>\n",
       "      <td>692</td>\n",
       "      <td>0</td>\n",
       "    </tr>\n",
       "    <tr>\n",
       "      <th>4</th>\n",
       "      <td>58293.0</td>\n",
       "      <td>1</td>\n",
       "      <td>0</td>\n",
       "      <td>94</td>\n",
       "      <td>173</td>\n",
       "      <td>43</td>\n",
       "      <td>118</td>\n",
       "      <td>46</td>\n",
       "      <td>27</td>\n",
       "      <td>15</td>\n",
       "      <td>...</td>\n",
       "      <td>0</td>\n",
       "      <td>0</td>\n",
       "      <td>0</td>\n",
       "      <td>0</td>\n",
       "      <td>0</td>\n",
       "      <td>0</td>\n",
       "      <td>1</td>\n",
       "      <td>407</td>\n",
       "      <td>392</td>\n",
       "      <td>0</td>\n",
       "    </tr>\n",
       "    <tr>\n",
       "      <th>5</th>\n",
       "      <td>62513.0</td>\n",
       "      <td>0</td>\n",
       "      <td>1</td>\n",
       "      <td>16</td>\n",
       "      <td>520</td>\n",
       "      <td>42</td>\n",
       "      <td>98</td>\n",
       "      <td>0</td>\n",
       "      <td>42</td>\n",
       "      <td>14</td>\n",
       "      <td>...</td>\n",
       "      <td>1</td>\n",
       "      <td>0</td>\n",
       "      <td>0</td>\n",
       "      <td>0</td>\n",
       "      <td>0</td>\n",
       "      <td>1</td>\n",
       "      <td>0</td>\n",
       "      <td>702</td>\n",
       "      <td>688</td>\n",
       "      <td>0</td>\n",
       "    </tr>\n",
       "  </tbody>\n",
       "</table>\n",
       "<p>5 rows × 39 columns</p>\n",
       "</div>"
      ],
      "text/plain": [
       "    Income  Kidhome  Teenhome  Recency  MntWines  MntFruits  MntMeatProducts   \n",
       "0  58138.0        0         0       58       635         88              546  \\\n",
       "1  46344.0        1         1       38        11          1                6   \n",
       "2  71613.0        0         0       26       426         49              127   \n",
       "4  58293.0        1         0       94       173         43              118   \n",
       "5  62513.0        0         1       16       520         42               98   \n",
       "\n",
       "   MntFishProducts  MntSweetProducts  MntGoldProds  ...  marital_Together   \n",
       "0              172                88            88  ...                 0  \\\n",
       "1                2                 1             6  ...                 0   \n",
       "2              111                21            42  ...                 1   \n",
       "4               46                27            15  ...                 0   \n",
       "5                0                42            14  ...                 1   \n",
       "\n",
       "   marital_Widow  education_2n Cycle  education_Basic  education_Graduation   \n",
       "0              0                   0                0                     1  \\\n",
       "1              0                   0                0                     1   \n",
       "2              0                   0                0                     1   \n",
       "4              0                   0                0                     0   \n",
       "5              0                   0                0                     0   \n",
       "\n",
       "   education_Master  education_PhD  MntTotal  MntRegularProds   \n",
       "0                 0              0      1529             1441  \\\n",
       "1                 0              0        21               15   \n",
       "2                 0              0       734              692   \n",
       "4                 0              1       407              392   \n",
       "5                 1              0       702              688   \n",
       "\n",
       "   AcceptedCmpOverall  \n",
       "0                   0  \n",
       "1                   0  \n",
       "2                   0  \n",
       "4                   0  \n",
       "5                   0  \n",
       "\n",
       "[5 rows x 39 columns]"
      ]
     },
     "execution_count": 10,
     "metadata": {},
     "output_type": "execute_result"
    }
   ],
   "source": [
    "df_3.head()"
   ]
  },
  {
   "cell_type": "code",
   "execution_count": 11,
   "id": "3e734911",
   "metadata": {},
   "outputs": [
    {
     "data": {
      "text/html": [
       "<div>\n",
       "<style scoped>\n",
       "    .dataframe tbody tr th:only-of-type {\n",
       "        vertical-align: middle;\n",
       "    }\n",
       "\n",
       "    .dataframe tbody tr th {\n",
       "        vertical-align: top;\n",
       "    }\n",
       "\n",
       "    .dataframe thead th {\n",
       "        text-align: right;\n",
       "    }\n",
       "</style>\n",
       "<table border=\"1\" class=\"dataframe\">\n",
       "  <thead>\n",
       "    <tr style=\"text-align: right;\">\n",
       "      <th></th>\n",
       "      <th>Income</th>\n",
       "      <th>Kidhome</th>\n",
       "      <th>Teenhome</th>\n",
       "      <th>Recency</th>\n",
       "      <th>MntWines</th>\n",
       "      <th>MntFruits</th>\n",
       "      <th>MntMeatProducts</th>\n",
       "      <th>MntFishProducts</th>\n",
       "      <th>MntSweetProducts</th>\n",
       "      <th>MntGoldProds</th>\n",
       "      <th>...</th>\n",
       "      <th>marital_Together</th>\n",
       "      <th>marital_Widow</th>\n",
       "      <th>education_2n Cycle</th>\n",
       "      <th>education_Basic</th>\n",
       "      <th>education_Graduation</th>\n",
       "      <th>education_Master</th>\n",
       "      <th>education_PhD</th>\n",
       "      <th>MntTotal</th>\n",
       "      <th>MntRegularProds</th>\n",
       "      <th>AcceptedCmpOverall</th>\n",
       "    </tr>\n",
       "  </thead>\n",
       "  <tbody>\n",
       "    <tr>\n",
       "      <th>107</th>\n",
       "      <td>90765.0</td>\n",
       "      <td>0</td>\n",
       "      <td>0</td>\n",
       "      <td>25</td>\n",
       "      <td>547</td>\n",
       "      <td>99</td>\n",
       "      <td>812</td>\n",
       "      <td>151</td>\n",
       "      <td>82</td>\n",
       "      <td>33</td>\n",
       "      <td>...</td>\n",
       "      <td>0</td>\n",
       "      <td>0</td>\n",
       "      <td>0</td>\n",
       "      <td>0</td>\n",
       "      <td>1</td>\n",
       "      <td>0</td>\n",
       "      <td>0</td>\n",
       "      <td>1691</td>\n",
       "      <td>1658</td>\n",
       "      <td>2</td>\n",
       "    </tr>\n",
       "    <tr>\n",
       "      <th>115</th>\n",
       "      <td>101970.0</td>\n",
       "      <td>0</td>\n",
       "      <td>0</td>\n",
       "      <td>69</td>\n",
       "      <td>722</td>\n",
       "      <td>27</td>\n",
       "      <td>102</td>\n",
       "      <td>44</td>\n",
       "      <td>72</td>\n",
       "      <td>168</td>\n",
       "      <td>...</td>\n",
       "      <td>0</td>\n",
       "      <td>0</td>\n",
       "      <td>0</td>\n",
       "      <td>0</td>\n",
       "      <td>1</td>\n",
       "      <td>0</td>\n",
       "      <td>0</td>\n",
       "      <td>967</td>\n",
       "      <td>799</td>\n",
       "      <td>3</td>\n",
       "    </tr>\n",
       "    <tr>\n",
       "      <th>129</th>\n",
       "      <td>92859.0</td>\n",
       "      <td>0</td>\n",
       "      <td>0</td>\n",
       "      <td>46</td>\n",
       "      <td>962</td>\n",
       "      <td>61</td>\n",
       "      <td>921</td>\n",
       "      <td>52</td>\n",
       "      <td>61</td>\n",
       "      <td>20</td>\n",
       "      <td>...</td>\n",
       "      <td>0</td>\n",
       "      <td>0</td>\n",
       "      <td>0</td>\n",
       "      <td>0</td>\n",
       "      <td>0</td>\n",
       "      <td>1</td>\n",
       "      <td>0</td>\n",
       "      <td>2057</td>\n",
       "      <td>2037</td>\n",
       "      <td>0</td>\n",
       "    </tr>\n",
       "    <tr>\n",
       "      <th>190</th>\n",
       "      <td>102160.0</td>\n",
       "      <td>0</td>\n",
       "      <td>0</td>\n",
       "      <td>54</td>\n",
       "      <td>763</td>\n",
       "      <td>29</td>\n",
       "      <td>138</td>\n",
       "      <td>76</td>\n",
       "      <td>176</td>\n",
       "      <td>58</td>\n",
       "      <td>...</td>\n",
       "      <td>1</td>\n",
       "      <td>0</td>\n",
       "      <td>0</td>\n",
       "      <td>0</td>\n",
       "      <td>0</td>\n",
       "      <td>0</td>\n",
       "      <td>1</td>\n",
       "      <td>1182</td>\n",
       "      <td>1124</td>\n",
       "      <td>3</td>\n",
       "    </tr>\n",
       "    <tr>\n",
       "      <th>238</th>\n",
       "      <td>102692.0</td>\n",
       "      <td>0</td>\n",
       "      <td>0</td>\n",
       "      <td>5</td>\n",
       "      <td>168</td>\n",
       "      <td>148</td>\n",
       "      <td>444</td>\n",
       "      <td>32</td>\n",
       "      <td>172</td>\n",
       "      <td>148</td>\n",
       "      <td>...</td>\n",
       "      <td>0</td>\n",
       "      <td>0</td>\n",
       "      <td>0</td>\n",
       "      <td>0</td>\n",
       "      <td>1</td>\n",
       "      <td>0</td>\n",
       "      <td>0</td>\n",
       "      <td>964</td>\n",
       "      <td>816</td>\n",
       "      <td>4</td>\n",
       "    </tr>\n",
       "  </tbody>\n",
       "</table>\n",
       "<p>5 rows × 39 columns</p>\n",
       "</div>"
      ],
      "text/plain": [
       "       Income  Kidhome  Teenhome  Recency  MntWines  MntFruits   \n",
       "107   90765.0        0         0       25       547         99  \\\n",
       "115  101970.0        0         0       69       722         27   \n",
       "129   92859.0        0         0       46       962         61   \n",
       "190  102160.0        0         0       54       763         29   \n",
       "238  102692.0        0         0        5       168        148   \n",
       "\n",
       "     MntMeatProducts  MntFishProducts  MntSweetProducts  MntGoldProds  ...   \n",
       "107              812              151                82            33  ...  \\\n",
       "115              102               44                72           168  ...   \n",
       "129              921               52                61            20  ...   \n",
       "190              138               76               176            58  ...   \n",
       "238              444               32               172           148  ...   \n",
       "\n",
       "     marital_Together  marital_Widow  education_2n Cycle  education_Basic   \n",
       "107                 0              0                   0                0  \\\n",
       "115                 0              0                   0                0   \n",
       "129                 0              0                   0                0   \n",
       "190                 1              0                   0                0   \n",
       "238                 0              0                   0                0   \n",
       "\n",
       "     education_Graduation  education_Master  education_PhD  MntTotal   \n",
       "107                     1                 0              0      1691  \\\n",
       "115                     1                 0              0       967   \n",
       "129                     0                 1              0      2057   \n",
       "190                     0                 0              1      1182   \n",
       "238                     1                 0              0       964   \n",
       "\n",
       "     MntRegularProds  AcceptedCmpOverall  \n",
       "107             1658                   2  \n",
       "115              799                   3  \n",
       "129             2037                   0  \n",
       "190             1124                   3  \n",
       "238              816                   4  \n",
       "\n",
       "[5 rows x 39 columns]"
      ]
     },
     "execution_count": 11,
     "metadata": {},
     "output_type": "execute_result"
    }
   ],
   "source": [
    "df_4.head()"
   ]
  },
  {
   "cell_type": "code",
   "execution_count": 12,
   "id": "5177fe17",
   "metadata": {},
   "outputs": [
    {
     "name": "stdout",
     "output_type": "stream",
     "text": [
      "Number of person lies 172\n",
      "Number of person lies 720\n",
      "Number of person lies 1264\n",
      "Number of person lies 49\n"
     ]
    }
   ],
   "source": [
    "print(\"Number of person lies\",len(df_1))\n",
    "print(\"Number of person lies\",len(df_2))\n",
    "print(\"Number of person lies\",len(df_3))\n",
    "print(\"Number of person lies\",len(df_4))"
   ]
  },
  {
   "cell_type": "code",
   "execution_count": 13,
   "id": "f759b30f",
   "metadata": {},
   "outputs": [],
   "source": [
    "# Amount spent on wines."
   ]
  },
  {
   "cell_type": "code",
   "execution_count": 14,
   "id": "ba0945c3",
   "metadata": {},
   "outputs": [],
   "source": [
    "lst_wines = [ df_1[\"MntWines\"].sum(),df_2[\"MntWines\"].sum(),df_3[\"MntWines\"].sum(),df_4[\"MntWines\"].sum() ]\n",
    "lst_wines_labels = [\"0,22400\",\"22401,44800\",\"44801,89600\",\"89601,179200\"]"
   ]
  },
  {
   "cell_type": "code",
   "execution_count": 15,
   "id": "8bdeb7f8",
   "metadata": {},
   "outputs": [
    {
     "data": {
      "image/png": "[encoded data removed]",
      "text/plain": [
       "<Figure size 432x288 with 1 Axes>"
      ]
     },
     "metadata": {
      "needs_background": "light"
     },
     "output_type": "display_data"
    }
   ],
   "source": [
    "import matplotlib.pyplot as plt\n",
    "plt.bar(lst_wines_labels,lst_wines)\n",
    "plt.xlabel(\"Income range\")\n",
    "plt.ylabel(\"Amount Spent\")\n",
    "plt.title(\" Amount spent on wines \")\n",
    "plt.show()"
   ]
  },
  {
   "cell_type": "code",
   "execution_count": 16,
   "id": "c667b3a1",
   "metadata": {},
   "outputs": [],
   "source": [
    "# Amount spent on fruits"
   ]
  },
  {
   "cell_type": "code",
   "execution_count": 17,
   "id": "97f1985a",
   "metadata": {},
   "outputs": [],
   "source": [
    "lst_fruits = [ df_1[\"MntFruits\"].sum(),df_2[\"MntFruits\"].sum(),df_3[\"MntFruits\"].sum(),df_4[\"MntFruits\"].sum() ]\n",
    "lst_fruits_labels = [\"0,22400\",\"22401,44800\",\"44801,89600\",\"89601,179200\"]"
   ]
  },
  {
   "cell_type": "code",
   "execution_count": 18,
   "id": "70f0832e",
   "metadata": {},
   "outputs": [
    {
     "data": {
      "image/png": "[encoded data removed]",
      "text/plain": [
       "<Figure size 432x288 with 1 Axes>"
      ]
     },
     "metadata": {
      "needs_background": "light"
     },
     "output_type": "display_data"
    }
   ],
   "source": [
    "import matplotlib.pyplot as plt\n",
    "plt.bar(lst_fruits_labels,lst_fruits)\n",
    "plt.xlabel(\"Income range\")\n",
    "plt.ylabel(\"Amount Spent\")\n",
    "plt.title(\" Amount spent on fruits \")\n",
    "plt.show()"
   ]
  },
  {
   "cell_type": "code",
   "execution_count": 19,
   "id": "b15d69b4",
   "metadata": {},
   "outputs": [],
   "source": [
    "# Amount spent on meat products"
   ]
  },
  {
   "cell_type": "code",
   "execution_count": 20,
   "id": "2d6d0909",
   "metadata": {},
   "outputs": [],
   "source": [
    "lst_meats = [ df_1[\"MntMeatProducts\"].sum(),df_2[\"MntMeatProducts\"].sum(),df_3[\"MntMeatProducts\"].sum(),df_4[\"MntMeatProducts\"].sum() ]\n",
    "lst_meats_labels = [\"0,22400\",\"22401,44800\",\"44801,89600\",\"89601,179200\"]"
   ]
  },
  {
   "cell_type": "code",
   "execution_count": 21,
   "id": "a64af92c",
   "metadata": {},
   "outputs": [
    {
     "data": {
      "image/png": "[encoded data removed]",
      "text/plain": [
       "<Figure size 432x288 with 1 Axes>"
      ]
     },
     "metadata": {
      "needs_background": "light"
     },
     "output_type": "display_data"
    }
   ],
   "source": [
    "import matplotlib.pyplot as plt\n",
    "plt.bar(lst_meats_labels,lst_meats)\n",
    "plt.xlabel(\"Income range\")\n",
    "plt.ylabel(\"Amount Spent\")\n",
    "plt.title(\" Amount spent on meat products \")\n",
    "plt.show()"
   ]
  },
  {
   "cell_type": "code",
   "execution_count": 22,
   "id": "daddbd4f",
   "metadata": {},
   "outputs": [],
   "source": [
    "# Amount spent on gold products"
   ]
  },
  {
   "cell_type": "code",
   "execution_count": 23,
   "id": "336d0581",
   "metadata": {},
   "outputs": [],
   "source": [
    "lst_gold = [ df_1[\"MntGoldProds\"].sum(),df_2[\"MntGoldProds\"].sum(),df_3[\"MntGoldProds\"].sum(),df_4[\"MntGoldProds\"].sum() ]\n",
    "lst_gold_labels = [\"0,22400\",\"22401,44800\",\"44801,89600\",\"89601,179200\"]"
   ]
  },
  {
   "cell_type": "code",
   "execution_count": 24,
   "id": "349f5637",
   "metadata": {},
   "outputs": [
    {
     "data": {
      "image/png": "[encoded data removed]",
      "text/plain": [
       "<Figure size 432x288 with 1 Axes>"
      ]
     },
     "metadata": {
      "needs_background": "light"
     },
     "output_type": "display_data"
    }
   ],
   "source": [
    "import matplotlib.pyplot as plt\n",
    "plt.bar(lst_gold_labels,lst_gold)\n",
    "plt.xlabel(\"Income range\")\n",
    "plt.ylabel(\"Amount Spent\")\n",
    "plt.title(\" Amount spent on gold products \")\n",
    "plt.show()"
   ]
  },
  {
   "cell_type": "code",
   "execution_count": 25,
   "id": "8b6f5f1e",
   "metadata": {},
   "outputs": [],
   "source": [
    "# Number of purchases made with special deals or discounts"
   ]
  },
  {
   "cell_type": "code",
   "execution_count": 26,
   "id": "35521df3",
   "metadata": {},
   "outputs": [],
   "source": [
    "lst_purchases = [ df_1[\"NumDealsPurchases\"].sum(),df_2[\"NumDealsPurchases\"].sum(),df_3[\"NumDealsPurchases\"].sum(),df_4[\"NumDealsPurchases\"].sum() ]\n",
    "lst_purchases_labels = [\"0,22400\",\"22401,44800\",\"44801,89600\",\"89601,179200\"]"
   ]
  },
  {
   "cell_type": "code",
   "execution_count": 27,
   "id": "3bf54a03",
   "metadata": {},
   "outputs": [
    {
     "data": {
      "image/png": "[encoded data removed]",
      "text/plain": [
       "<Figure size 432x288 with 1 Axes>"
      ]
     },
     "metadata": {
      "needs_background": "light"
     },
     "output_type": "display_data"
    }
   ],
   "source": [
    "import matplotlib.pyplot as plt\n",
    "plt.bar(lst_purchases_labels,lst_purchases)\n",
    "plt.xlabel(\"Income range\")\n",
    "plt.ylabel(\"Number of purchases\")\n",
    "plt.title(\" Number of purchases made with special deals or discounts \")\n",
    "plt.show()"
   ]
  },
  {
   "cell_type": "code",
   "execution_count": 28,
   "id": "10b0361d",
   "metadata": {},
   "outputs": [],
   "source": [
    "# Number of purchases made through the web"
   ]
  },
  {
   "cell_type": "code",
   "execution_count": 29,
   "id": "0ac2c289",
   "metadata": {},
   "outputs": [],
   "source": [
    "lst_web_purchases = [ df_1[\"NumWebPurchases\"].sum(),df_2[\"NumWebPurchases\"].sum(),df_3[\"NumWebPurchases\"].sum(),df_4[\"NumWebPurchases\"].sum() ]\n",
    "lst_web_purchases_labels = [\"0,22400\",\"22401,44800\",\"44801,89600\",\"89601,179200\"]"
   ]
  },
  {
   "cell_type": "code",
   "execution_count": 30,
   "id": "261d996c",
   "metadata": {},
   "outputs": [
    {
     "data": {
      "image/png": "[encoded data removed]",
      "text/plain": [
       "<Figure size 432x288 with 1 Axes>"
      ]
     },
     "metadata": {
      "needs_background": "light"
     },
     "output_type": "display_data"
    }
   ],
   "source": [
    "import matplotlib.pyplot as plt\n",
    "plt.bar(lst_web_purchases_labels,lst_web_purchases)\n",
    "plt.xlabel(\"Income range\")\n",
    "plt.ylabel(\"Number of web purchases\")\n",
    "plt.title(\" Number of purchases made through the web \")\n",
    "plt.show()"
   ]
  },
  {
   "cell_type": "code",
   "execution_count": 31,
   "id": "701b1e14",
   "metadata": {},
   "outputs": [],
   "source": [
    "# Whether the customer has made a complaint."
   ]
  },
  {
   "cell_type": "code",
   "execution_count": 32,
   "id": "c1847a2c",
   "metadata": {},
   "outputs": [],
   "source": [
    "lst_Complain = [ df_1[\"Complain\"].sum(),df_2[\"Complain\"].sum(),df_3[\"Complain\"].sum(),df_4[\"Complain\"].sum() ]\n",
    "lst_Complain_labels = [\"0,22400\",\"22401,44800\",\"44801,89600\",\"89601,179200\"]"
   ]
  },
  {
   "cell_type": "code",
   "execution_count": 33,
   "id": "cec4ceee",
   "metadata": {},
   "outputs": [
    {
     "data": {
      "image/png": "[encoded data removed]",
      "text/plain": [
       "<Figure size 432x288 with 1 Axes>"
      ]
     },
     "metadata": {
      "needs_background": "light"
     },
     "output_type": "display_data"
    }
   ],
   "source": [
    "import matplotlib.pyplot as plt\n",
    "plt.bar(lst_Complain_labels,lst_Complain)\n",
    "plt.xlabel(\"Income range\")\n",
    "plt.ylabel(\"No of Complain\")\n",
    "plt.title(\" Whether the customer has made a complaint. \")\n",
    "plt.show()"
   ]
  },
  {
   "cell_type": "code",
   "execution_count": 34,
   "id": "f5738a46",
   "metadata": {},
   "outputs": [],
   "source": [
    "# Total amount spent on products."
   ]
  },
  {
   "cell_type": "code",
   "execution_count": 35,
   "id": "b919c598",
   "metadata": {},
   "outputs": [],
   "source": [
    "lst_amount_spent = [ df_1[\"MntTotal\"].sum(),df_2[\"MntTotal\"].sum(),df_3[\"MntTotal\"].sum(),df_4[\"MntTotal\"].sum() ]\n",
    "lst_amount_spent_labels = [\"0,22400\",\"22401,44800\",\"44801,89600\",\"89601,179200\"]"
   ]
  },
  {
   "cell_type": "code",
   "execution_count": 36,
   "id": "307ffa7b",
   "metadata": {},
   "outputs": [
    {
     "data": {
      "image/png": "[encoded data removed]",
      "text/plain": [
       "<Figure size 432x288 with 1 Axes>"
      ]
     },
     "metadata": {
      "needs_background": "light"
     },
     "output_type": "display_data"
    }
   ],
   "source": [
    "import matplotlib.pyplot as plt\n",
    "plt.bar(lst_amount_spent_labels,lst_amount_spent)\n",
    "plt.xlabel(\"Income range\")\n",
    "plt.ylabel(\"Amount spent on Product\")\n",
    "plt.title(\" Total amount spent on products. \")\n",
    "plt.show()"
   ]
  },
  {
   "cell_type": "code",
   "execution_count": 37,
   "id": "ca96bd6c",
   "metadata": {},
   "outputs": [],
   "source": [
    "# Amount spent on regular (non-special) products"
   ]
  },
  {
   "cell_type": "code",
   "execution_count": 38,
   "id": "57bb0033",
   "metadata": {},
   "outputs": [],
   "source": [
    "lst_amount_spent_regular = [ df_1[\"MntRegularProds\"].sum(),df_2[\"MntRegularProds\"].sum(),df_3[\"MntRegularProds\"].sum(),df_4[\"MntRegularProds\"].sum() ]\n",
    "lst_amount_spent_regular_labels = [\"0,22400\",\"22401,44800\",\"44801,89600\",\"89601,179200\"]"
   ]
  },
  {
   "cell_type": "code",
   "execution_count": 39,
   "id": "48234c9f",
   "metadata": {},
   "outputs": [
    {
     "data": {
      "image/png": "[encoded data removed]",
      "text/plain": [
       "<Figure size 432x288 with 1 Axes>"
      ]
     },
     "metadata": {
      "needs_background": "light"
     },
     "output_type": "display_data"
    }
   ],
   "source": [
    "import matplotlib.pyplot as plt\n",
    "plt.bar(lst_amount_spent_labels,lst_amount_spent)\n",
    "plt.xlabel(\"Income range\")\n",
    "plt.ylabel(\"Amount spent on regular Product\")\n",
    "plt.title(\" Amount spent on regular (non-special) products \")\n",
    "plt.show()"
   ]
  },
  {
   "cell_type": "code",
   "execution_count": 40,
   "id": "e824583a",
   "metadata": {},
   "outputs": [
    {
     "data": {
      "text/plain": [
       "Index(['Income', 'Kidhome', 'Teenhome', 'Recency', 'MntWines', 'MntFruits',\n",
       "       'MntMeatProducts', 'MntFishProducts', 'MntSweetProducts',\n",
       "       'MntGoldProds', 'NumDealsPurchases', 'NumWebPurchases',\n",
       "       'NumCatalogPurchases', 'NumStorePurchases', 'NumWebVisitsMonth',\n",
       "       'AcceptedCmp3', 'AcceptedCmp4', 'AcceptedCmp5', 'AcceptedCmp1',\n",
       "       'AcceptedCmp2', 'Complain', 'Z_CostContact', 'Z_Revenue', 'Response',\n",
       "       'Age', 'Customer_Days', 'marital_Divorced', 'marital_Married',\n",
       "       'marital_Single', 'marital_Together', 'marital_Widow',\n",
       "       'education_2n Cycle', 'education_Basic', 'education_Graduation',\n",
       "       'education_Master', 'education_PhD', 'MntTotal', 'MntRegularProds',\n",
       "       'AcceptedCmpOverall'],\n",
       "      dtype='object')"
      ]
     },
     "execution_count": 40,
     "metadata": {},
     "output_type": "execute_result"
    }
   ],
   "source": [
    "df.columns"
   ]
  },
  {
   "cell_type": "code",
   "execution_count": 41,
   "id": "8d72f064",
   "metadata": {},
   "outputs": [],
   "source": [
    "# Marital status categories"
   ]
  },
  {
   "cell_type": "code",
   "execution_count": 42,
   "id": "f5371e37",
   "metadata": {},
   "outputs": [],
   "source": [
    "lst_marital_Divorced = [ df_1[\"marital_Divorced\"].sum(),df_2[\"marital_Divorced\"].sum(),df_3[\"marital_Divorced\"].sum(),df_4[\"marital_Divorced\"].sum() ]\n",
    "lst_marital_Divorced_labels = [\"0,22400\",\"22401,44800\",\"44801,89600\",\"89601,179200\"]"
   ]
  },
  {
   "cell_type": "code",
   "execution_count": 43,
   "id": "d321b2ba",
   "metadata": {},
   "outputs": [
    {
     "data": {
      "image/png": "[encoded data removed]",
      "text/plain": [
       "<Figure size 432x288 with 1 Axes>"
      ]
     },
     "metadata": {},
     "output_type": "display_data"
    }
   ],
   "source": [
    "plt.pie(lst_marital_Divorced,labels = lst_marital_Divorced_labels,explode = [0.1,0,0,0],shadow = True,autopct=\"%1.1f%%\")\n",
    "plt.title(\" Marital_Divoeced status \")\n",
    "plt.show()"
   ]
  },
  {
   "cell_type": "code",
   "execution_count": 44,
   "id": "f094ac4b",
   "metadata": {},
   "outputs": [],
   "source": [
    "lst_marital_Married = [ df_1[\"marital_Married\"].sum(),df_2[\"marital_Married\"].sum(),df_3[\"marital_Married\"].sum(),df_4[\"marital_Married\"].sum() ]\n",
    "lst_marital_Married_labels = [\"0,22400\",\"22401,44800\",\"44801,89600\",\"89601,179200\"]"
   ]
  },
  {
   "cell_type": "code",
   "execution_count": 45,
   "id": "720ba6a6",
   "metadata": {},
   "outputs": [
    {
     "data": {
      "image/png": "[encoded data removed]",
      "text/plain": [
       "<Figure size 432x288 with 1 Axes>"
      ]
     },
     "metadata": {},
     "output_type": "display_data"
    }
   ],
   "source": [
    "plt.pie(lst_marital_Married,labels = lst_marital_Married_labels,explode = [0.1,0.1,0.1,0.1],shadow = True,autopct=\"%1.1f%%\")\n",
    "plt.title(\" Marital_Married status \")\n",
    "plt.show()"
   ]
  },
  {
   "cell_type": "code",
   "execution_count": 46,
   "id": "5faf8620",
   "metadata": {},
   "outputs": [],
   "source": [
    "lst_marital_Single = [ df_1[\"marital_Single\"].sum(),df_2[\"marital_Single\"].sum(),df_3[\"marital_Single\"].sum(),df_4[\"marital_Single\"].sum() ]\n",
    "lst_marital_Single_labels = [\"0,22400\",\"22401,44800\",\"44801,89600\",\"89601,179200\"]"
   ]
  },
  {
   "cell_type": "code",
   "execution_count": 47,
   "id": "a0853ca0",
   "metadata": {},
   "outputs": [
    {
     "data": {
      "image/png": "[encoded data removed]",
      "text/plain": [
       "<Figure size 432x288 with 1 Axes>"
      ]
     },
     "metadata": {},
     "output_type": "display_data"
    }
   ],
   "source": [
    "plt.pie(lst_marital_Single,labels = lst_marital_Single_labels,explode = [0.1,0,0.2,0.2],shadow = True,autopct=\"%1.1f%%\")\n",
    "plt.title(\" Marital_Single status \")\n",
    "plt.show()"
   ]
  },
  {
   "cell_type": "code",
   "execution_count": 48,
   "id": "65af6f2a",
   "metadata": {},
   "outputs": [],
   "source": [
    "# The probability of percentages Whether the customer responded to a marketing campaign."
   ]
  },
  {
   "cell_type": "code",
   "execution_count": 49,
   "id": "10151bb8",
   "metadata": {},
   "outputs": [],
   "source": [
    "lst_Response = [ df_1[\"Response\"].sum()/len(df_1),df_2[\"Response\"].sum()/len(df_2),df_3[\"Response\"].sum()/len(df_3),df_4[\"Response\"].sum()/len(df_4) ]\n",
    "lst_Response_labels = [\"0,22400\",\"22401,44800\",\"44801,89600\",\"89601,179200\"]"
   ]
  },
  {
   "cell_type": "code",
   "execution_count": 50,
   "id": "997c11be",
   "metadata": {},
   "outputs": [
    {
     "data": {
      "image/png": "[encoded data removed]",
      "text/plain": [
       "<Figure size 432x288 with 1 Axes>"
      ]
     },
     "metadata": {},
     "output_type": "display_data"
    }
   ],
   "source": [
    "plt.pie(lst_Response,labels = lst_Response_labels,explode = [0.1,0.2,0.2,0.2],shadow = True,autopct=\"%1.1f%%\")\n",
    "plt.title(\" probability of percentages Whether the customer responded to a marketing campaign \")\n",
    "plt.show()"
   ]
  },
  {
   "cell_type": "code",
   "execution_count": 51,
   "id": "c1d1d92e",
   "metadata": {},
   "outputs": [],
   "source": [
    "# The probability of percentages Whether the customer accepted marketing campaigns 3 to 5, 1, and 2."
   ]
  },
  {
   "cell_type": "code",
   "execution_count": 52,
   "id": "603c565f",
   "metadata": {},
   "outputs": [],
   "source": [
    "def func(dataframe,col1,col2,col3,col4,col5):\n",
    "    val1 = (dataframe[col1].sum()/len(dataframe))+(dataframe[col2].sum()/len(dataframe))+(dataframe[col3].sum()/len(dataframe))+(dataframe[col4].sum()/len(dataframe))+(dataframe[col5].sum()/len(dataframe))\n",
    "    return val1"
   ]
  },
  {
   "cell_type": "code",
   "execution_count": 53,
   "id": "90b2ae39",
   "metadata": {},
   "outputs": [],
   "source": [
    "val1 = func(df_1,'AcceptedCmp3', 'AcceptedCmp4', 'AcceptedCmp5', 'AcceptedCmp1','AcceptedCmp2')\n",
    "val2 = func(df_2,'AcceptedCmp3', 'AcceptedCmp4', 'AcceptedCmp5', 'AcceptedCmp1','AcceptedCmp2')\n",
    "val3 = func(df_3,'AcceptedCmp3', 'AcceptedCmp4', 'AcceptedCmp5', 'AcceptedCmp1','AcceptedCmp2')\n",
    "val4 = func(df_4,'AcceptedCmp3', 'AcceptedCmp4', 'AcceptedCmp5', 'AcceptedCmp1','AcceptedCmp2')"
   ]
  },
  {
   "cell_type": "code",
   "execution_count": 54,
   "id": "5f0266e8",
   "metadata": {},
   "outputs": [],
   "source": [
    "lst = [val1,val2,val3,val4]\n",
    "lst_labels = [\"0,22400\",\"22401,44800\",\"44801,89600\",\"89601,179200\"]"
   ]
  },
  {
   "cell_type": "code",
   "execution_count": 55,
   "id": "c9d94ff7",
   "metadata": {},
   "outputs": [
    {
     "data": {
      "image/png": "[encoded data removed]",
      "text/plain": [
       "<Figure size 432x288 with 1 Axes>"
      ]
     },
     "metadata": {},
     "output_type": "display_data"
    }
   ],
   "source": [
    "plt.pie(lst,labels = lst_labels,explode = [0.2,0.2,0.2,0.2],shadow = True,autopct=\"%1.1f%%\")\n",
    "plt.title(\" Probability of percentages Whether the customer accepted marketing campaigns 3 to 5, 1, and 2. \")\n",
    "plt.show()"
   ]
  },
  {
   "cell_type": "code",
   "execution_count": 56,
   "id": "5341cdc8",
   "metadata": {},
   "outputs": [
    {
     "data": {
      "text/plain": [
       "array([70, 44, 33, 41, 51, 31, 35, 63, 45, 24, 32, 36, 69, 47, 56, 50, 49,\n",
       "       37, 40, 38, 34, 74, 46, 52, 64, 61, 68, 60, 48, 39, 42, 55, 29, 59,\n",
       "       62, 30, 28, 43, 54, 57], dtype=int64)"
      ]
     },
     "execution_count": 56,
     "metadata": {},
     "output_type": "execute_result"
    }
   ],
   "source": [
    "df_1[\"Age\"].unique()"
   ]
  },
  {
   "cell_type": "code",
   "execution_count": 57,
   "id": "e830deb8",
   "metadata": {},
   "outputs": [
    {
     "data": {
      "image/png": "[encoded data removed]",
      "text/plain": [
       "<Figure size 576x576 with 1 Axes>"
      ]
     },
     "metadata": {},
     "output_type": "display_data"
    }
   ],
   "source": [
    "cmp_age = df[np.isfinite(df['Age'])]['Age']\n",
    "sns.set(rc={\"figure.figsize\": (7, 7)})\n",
    "sns.set_style(\"whitegrid\")\n",
    "fig = plt.figure(figsize = (8,8))\n",
    "plt.hist(cmp_age.values,  bins=30, color=\"RoyalBlue\",  edgecolor=\"black\")\n",
    "\n",
    "age_group = (20,25,30,35,40,45,50,55,60,65,70,75,80)\n",
    "df['age_group'] = pd.cut(x =df.Age, bins = age_group)\n",
    "\n",
    "plt.xlabel('Age', fontsize=28)\n",
    "plt.ylabel('Frequency  ', fontsize=28)\n",
    "plt.title('Frequency Distribution of Attribute of Age Group by All Customers ', fontsize=20);"
   ]
  },
  {
   "cell_type": "code",
   "execution_count": 58,
   "id": "b5f32978",
   "metadata": {},
   "outputs": [
    {
     "data": {
      "text/html": [
       "<div>\n",
       "<style scoped>\n",
       "    .dataframe tbody tr th:only-of-type {\n",
       "        vertical-align: middle;\n",
       "    }\n",
       "\n",
       "    .dataframe tbody tr th {\n",
       "        vertical-align: top;\n",
       "    }\n",
       "\n",
       "    .dataframe thead th {\n",
       "        text-align: right;\n",
       "    }\n",
       "</style>\n",
       "<table border=\"1\" class=\"dataframe\">\n",
       "  <thead>\n",
       "    <tr style=\"text-align: right;\">\n",
       "      <th>age_group</th>\n",
       "      <th>(20, 25]</th>\n",
       "      <th>(75, 80]</th>\n",
       "      <th>(25, 30]</th>\n",
       "      <th>(70, 75]</th>\n",
       "      <th>(30, 35]</th>\n",
       "      <th>(65, 70]</th>\n",
       "      <th>(55, 60]</th>\n",
       "      <th>(35, 40]</th>\n",
       "      <th>(50, 55]</th>\n",
       "      <th>(40, 45]</th>\n",
       "      <th>(60, 65]</th>\n",
       "      <th>(45, 50]</th>\n",
       "    </tr>\n",
       "  </thead>\n",
       "  <tbody>\n",
       "    <tr>\n",
       "      <th>AcceptedCmpOverall</th>\n",
       "      <td>3</td>\n",
       "      <td>9</td>\n",
       "      <td>28</td>\n",
       "      <td>44</td>\n",
       "      <td>51</td>\n",
       "      <td>51</td>\n",
       "      <td>58</td>\n",
       "      <td>73</td>\n",
       "      <td>75</td>\n",
       "      <td>79</td>\n",
       "      <td>86</td>\n",
       "      <td>103</td>\n",
       "    </tr>\n",
       "  </tbody>\n",
       "</table>\n",
       "</div>"
      ],
      "text/plain": [
       "age_group           (20, 25]  (75, 80]  (25, 30]  (70, 75]  (30, 35]   \n",
       "AcceptedCmpOverall         3         9        28        44        51  \\\n",
       "\n",
       "age_group           (65, 70]  (55, 60]  (35, 40]  (50, 55]  (40, 45]   \n",
       "AcceptedCmpOverall        51        58        73        75        79  \\\n",
       "\n",
       "age_group           (60, 65]  (45, 50]  \n",
       "AcceptedCmpOverall        86       103  "
      ]
     },
     "execution_count": 58,
     "metadata": {},
     "output_type": "execute_result"
    }
   ],
   "source": [
    "df.pivot_table([\"AcceptedCmpOverall\"], index=[\"age_group\"], aggfunc=\"sum\").sort_values(by=\"AcceptedCmpOverall\").T"
   ]
  },
  {
   "cell_type": "code",
   "execution_count": 59,
   "id": "60e90530",
   "metadata": {},
   "outputs": [
    {
     "data": {
      "image/png": "[encoded data removed]",
      "text/plain": [
       "<Figure size 1296x1296 with 25 Axes>"
      ]
     },
     "metadata": {},
     "output_type": "display_data"
    }
   ],
   "source": [
    "df_agg = df[['AcceptedCmp3','AcceptedCmp4','AcceptedCmp5','AcceptedCmp1','AcceptedCmp2','age_group']].groupby('age_group').count()\n",
    "df_agg[['AcceptedCmp1','AcceptedCmp2','AcceptedCmp3','AcceptedCmp4','AcceptedCmp5']].plot.bar(subplots=True,colormap=\"winter\", layout=(5, 5), figsize=(18, 18), sharex=False);"
   ]
  },
  {
   "cell_type": "code",
   "execution_count": null,
   "id": "64334185",
   "metadata": {},
   "outputs": [],
   "source": []
  },
  {
   "cell_type": "code",
   "execution_count": null,
   "id": "3b1a1296",
   "metadata": {},
   "outputs": [],
   "source": []
  }
 ],
 "metadata": {
  "kernelspec": {
   "display_name": "Python 3 (ipykernel)",
   "language": "python",
   "name": "python3"
  },
  "language_info": {
   "codemirror_mode": {
    "name": "ipython",
    "version": 3
   },
   "file_extension": ".py",
   "mimetype": "text/x-python",
   "name": "python",
   "nbconvert_exporter": "python",
   "pygments_lexer": "ipython3",
   "version": "3.10.0"
  }
 },
 "nbformat": 4,
 "nbformat_minor": 5
}
